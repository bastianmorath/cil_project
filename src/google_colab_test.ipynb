{
  "nbformat": 4,
  "nbformat_minor": 0,
  "metadata": {
    "colab": {
      "name": "Untitled0.ipynb",
      "version": "0.3.2",
      "views": {},
      "default_view": {},
      "provenance": [],
      "collapsed_sections": []
    },
    "kernelspec": {
      "name": "python3",
      "display_name": "Python 3"
    },
    "accelerator": "GPU"
  },
  "cells": [
    {
      "metadata": {
        "id": "y7Gqr5Dsjxoq",
        "colab_type": "code",
        "colab": {
          "autoexec": {
            "startup": false,
            "wait_interval": 0
          },
          "output_extras": [
            {
              "item_id": 1
            }
          ],
          "base_uri": "https://localhost:8080/",
          "height": 34
        },
        "outputId": "7753accb-6327-438e-f5a6-9159d1aa3f09",
        "executionInfo": {
          "status": "ok",
          "timestamp": 1521904253794,
          "user_tz": -60,
          "elapsed": 1733,
          "user": {
            "displayName": "Jakob Beckmann",
            "photoUrl": "https://lh3.googleusercontent.com/a/default-user=s128",
            "userId": "100379561012046693590"
          }
        }
      },
      "cell_type": "code",
      "source": [
        "import tensorflow as tf         # Make sure to activate GPU hardware accelerated in Edit -> Notebook Settings\n",
        "tf.test.gpu_device_name()"
      ],
      "execution_count": 1,
      "outputs": [
        {
          "output_type": "execute_result",
          "data": {
            "text/plain": [
              "'/device:GPU:0'"
            ]
          },
          "metadata": {
            "tags": []
          },
          "execution_count": 1
        }
      ]
    },
    {
      "metadata": {
        "id": "XhGuvz4cklrz",
        "colab_type": "text"
      },
      "cell_type": "markdown",
      "source": [
        "Note that the following requires the repository to be public."
      ]
    },
    {
      "metadata": {
        "id": "Q0OmUB8okWPB",
        "colab_type": "code",
        "colab": {
          "autoexec": {
            "startup": false,
            "wait_interval": 0
          },
          "output_extras": [
            {
              "item_id": 1
            }
          ],
          "base_uri": "https://localhost:8080/",
          "height": 34
        },
        "outputId": "65d12d80-d4a7-4850-e480-43ce611b762a",
        "executionInfo": {
          "status": "ok",
          "timestamp": 1521904441831,
          "user_tz": -60,
          "elapsed": 715,
          "user": {
            "displayName": "Jakob Beckmann",
            "photoUrl": "https://lh3.googleusercontent.com/a/default-user=s128",
            "userId": "100379561012046693590"
          }
        }
      },
      "cell_type": "code",
      "source": [
        "!git clone https://github.com/jakobbeckmann/cil_project.git"
      ],
      "execution_count": 6,
      "outputs": [
        {
          "output_type": "stream",
          "text": [
            "fatal: destination path 'cil_project' already exists and is not an empty directory.\r\n"
          ],
          "name": "stdout"
        }
      ]
    },
    {
      "metadata": {
        "id": "dfkD224gk6KL",
        "colab_type": "code",
        "colab": {
          "autoexec": {
            "startup": false,
            "wait_interval": 0
          },
          "output_extras": [
            {
              "item_id": 3
            },
            {
              "item_id": 88
            },
            {
              "item_id": 89
            },
            {
              "item_id": 378
            },
            {
              "item_id": 3407
            },
            {
              "item_id": 6472
            },
            {
              "item_id": 6717
            },
            {
              "item_id": 7513
            },
            {
              "item_id": 10194
            },
            {
              "item_id": 10258
            },
            {
              "item_id": 11048
            },
            {
              "item_id": 12270
            },
            {
              "item_id": 12359
            },
            {
              "item_id": 12360
            }
          ],
          "base_uri": "https://localhost:8080/",
          "height": 425
        },
        "cellView": "code",
        "outputId": "265a4496-98c6-44f8-cd76-eaee9007aa49",
        "executionInfo": {
          "status": "ok",
          "timestamp": 1521909842585,
          "user_tz": -60,
          "elapsed": 5178317,
          "user": {
            "displayName": "Jakob Beckmann",
            "photoUrl": "https://lh3.googleusercontent.com/a/default-user=s128",
            "userId": "100379561012046693590"
          }
        }
      },
      "cell_type": "code",
      "source": [
        "#@title Default title text\n",
        "%run cil_project/src/run.py -t -v"
      ],
      "execution_count": 1,
      "outputs": [
        {
          "output_type": "stream",
          "text": [
            "Using TensorFlow backend.\n",
            "Generating CNN model with leaky ReLU and dropouts ...\n",
            "Loading image sets into memory ...\n",
            "Found 800 images with 400x400 resolution.\n"
          ],
          "name": "stderr"
        },
        {
          "output_type": "stream",
          "text": [
            ""
          ],
          "name": "stdout"
        },
        {
          "output_type": "stream",
          "text": [
            "Done\n",
            "Preparing training, compiling model ...\n",
            "Starting training ...\n"
          ],
          "name": "stderr"
        },
        {
          "output_type": "stream",
          "text": [
            "\r |█████████████████████████████████████████████████-| 99.9% \r\r |██████████████████████████████████████████████████| 100.0% \r\n",
            "Epoch 1/150\n",
            " 449/5000 [=>............................] - ETA: 13:44 - loss: 0.2540 - acc: 0.8810"
          ],
          "name": "stdout"
        },
        {
          "output_type": "stream",
          "text": [
            "5000/5000 [==============================] - 861s 172ms/step - loss: 0.1092 - acc: 0.9530\n"
          ],
          "name": "stdout"
        },
        {
          "output_type": "stream",
          "text": [
            "Epoch 2/150\n",
            "4999/5000 [============================>.] - ETA: 0s - loss: 0.0818 - acc: 0.9663"
          ],
          "name": "stdout"
        },
        {
          "output_type": "stream",
          "text": [
            "\b\b\b\b\b\b\b\b\b\b\b\b\b\b\b\b\b\b\b\b\b\b\b\b\b\b\b\b\b\b\b\b\b\b\b\b\b\b\b\b\b\b\b\b\b\b\b\b\b\b\b\b\b\b\b\b\b\b\b\b\b\b\b\b\b\b\b\b\b\b\b\b\b\b\b\b\b\b\b\b\b\r5000/5000 [==============================] - 856s 171ms/step - loss: 0.0818 - acc: 0.9663\n",
            "Epoch 3/150\n",
            " 371/5000 [=>............................] - ETA: 13:12 - loss: 0.0813 - acc: 0.9680"
          ],
          "name": "stdout"
        },
        {
          "output_type": "stream",
          "text": [
            "5000/5000 [==============================] - 855s 171ms/step - loss: 0.0767 - acc: 0.9697\n"
          ],
          "name": "stdout"
        },
        {
          "output_type": "stream",
          "text": [
            "Epoch 4/150\n",
            "4999/5000 [============================>.] - ETA: 0s - loss: 0.0760 - acc: 0.9701"
          ],
          "name": "stdout"
        },
        {
          "output_type": "stream",
          "text": [
            "\b\b\b\b\b\b\b\b\b\b\b\b\b\b\b\b\b\b\b\b\b\b\b\b\b\b\b\b\b\b\b\b\b\b\b\b\b\b\b\b\b\b\b\b\b\b\b\b\b\b\b\b\b\b\b\b\b\b\b\b\b\b\b\b\b\b\b\b\b\b\b\b\b\b\b\b\b\b\b\b\b\r5000/5000 [==============================] - 853s 171ms/step - loss: 0.0760 - acc: 0.9701\n",
            "Epoch 5/150\n",
            " 371/5000 [=>............................] - ETA: 13:08 - loss: 0.0783 - acc: 0.9697"
          ],
          "name": "stdout"
        },
        {
          "output_type": "stream",
          "text": [
            "5000/5000 [==============================] - 852s 170ms/step - loss: 0.0751 - acc: 0.9713\n"
          ],
          "name": "stdout"
        },
        {
          "output_type": "stream",
          "text": [
            "Epoch 6/150\n",
            "4999/5000 [============================>.] - ETA: 0s - loss: 0.0749 - acc: 0.9711"
          ],
          "name": "stdout"
        },
        {
          "output_type": "stream",
          "text": [
            "\b\b\b\b\b\b\b\b\b\b\b\b\b\b\b\b\b\b\b\b\b\b\b\b\b\b\b\b\b\b\b\b\b\b\b\b\b\b\b\b\b\b\b\b\b\b\b\b\b\b\b\b\b\b\b\b\b\b\b\b\b\b\b\b\b\b\b\b\b\b\b\b\b\b\b\b\b\b\b\b\b\r5000/5000 [==============================] - 852s 170ms/step - loss: 0.0749 - acc: 0.9711\n",
            "Epoch 7/150\n",
            " 137/5000 [..............................] - ETA: 13:50 - loss: 0.0680 - acc: 0.9732"
          ],
          "name": "stdout"
        },
        {
          "output_type": "stream",
          "text": [
            "\n",
            "Training interrupted\n",
            "Weights saved to results/weights/first_test.h5\n"
          ],
          "name": "stderr"
        }
      ]
    },
    {
      "metadata": {
        "id": "HT2YaaX0lTlF",
        "colab_type": "code",
        "colab": {
          "autoexec": {
            "startup": false,
            "wait_interval": 0
          }
        }
      },
      "cell_type": "code",
      "source": [
        "from google.colab import files\n",
        "files.download(\"cil_project/results/weights/first_test.h5\")"
      ],
      "execution_count": 0,
      "outputs": []
    },
    {
      "metadata": {
        "id": "ih1woD135jZ4",
        "colab_type": "code",
        "colab": {
          "autoexec": {
            "startup": false,
            "wait_interval": 0
          }
        }
      },
      "cell_type": "code",
      "source": [
        ""
      ],
      "execution_count": 0,
      "outputs": []
    }
  ]
}